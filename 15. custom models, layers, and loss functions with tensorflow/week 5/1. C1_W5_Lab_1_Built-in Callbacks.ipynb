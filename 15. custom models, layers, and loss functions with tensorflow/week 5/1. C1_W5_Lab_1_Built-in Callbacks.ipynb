{
 "cells": [
  {
   "cell_type": "markdown",
   "metadata": {
    "colab_type": "text",
    "id": "view-in-github"
   },
   "source": [
    "<a href=\"https://colab.research.google.com/github/https-deeplearning-ai/tensorflow-3-public/blob/main/Course%201%20-%20Custom%20Models%2C%20Layers%20and%20Loss%20Functions/Week%205%20-%20Callbacks/C1_W5_Lab_1_exploring-callbacks.ipynb\" target=\"_parent\"><img src=\"https://colab.research.google.com/assets/colab-badge.svg\" alt=\"Open In Colab\"/></a>"
   ]
  },
  {
   "cell_type": "markdown",
   "metadata": {
    "colab_type": "text",
    "id": "0c_TYhQOUe1j"
   },
   "source": [
    "# Ungraded Lab: Introduction to Keras callbacks\n",
    "\n",
    "In Keras, `Callback` is a Python class meant to be subclassed to provide specific functionality, with a set of methods called at various stages of training (including batch/epoch start and ends), testing, and predicting. Callbacks are useful to get a view on internal states and statistics of the model during training. The methods of the callbacks can  be called at different stages of training/evaluating/inference. Keras has available [callbacks](https://keras.io/api/callbacks/) and we'll show how you can use it in the following sections. Please click the **Open in Colab** badge above to complete this exercise in Colab. This will allow you to take advantage of the free GPU runtime (for faster training) and compatibility with all the packages needed in this notebook."
   ]
  },
  {
   "cell_type": "markdown",
   "metadata": {
    "colab_type": "text",
    "id": "Uyl69EyRQx-f"
   },
   "source": [
    "## Model methods that take callbacks\n",
    "Users can supply a list of callbacks to the following `tf.keras.Model` methods:\n",
    "* [`fit()`](https://www.tensorflow.org/versions/r2.0/api_docs/python/tf/keras/Model#fit), [`fit_generator()`](https://www.tensorflow.org/versions/r2.0/api_docs/python/tf/keras/Model#fit_generator)\n",
    "Trains the model for a fixed number of epochs (iterations over a dataset, or data yielded batch-by-batch by a Python generator).\n",
    "* [`evaluate()`](https://www.tensorflow.org/versions/r2.0/api_docs/python/tf/keras/Model#evaluate), [`evaluate_generator()`](https://www.tensorflow.org/versions/r2.0/api_docs/python/tf/keras/Model#evaluate_generator)\n",
    "Evaluates the model for given data or data generator. Outputs the loss and metric values from the evaluation.\n",
    "* [`predict()`](https://www.tensorflow.org/versions/r2.0/api_docs/python/tf/keras/Model#predict), [`predict_generator()`](https://www.tensorflow.org/versions/r2.0/api_docs/python/tf/keras/Model#predict_generator)\n",
    "Generates output predictions for the input data or data generator."
   ]
  },
  {
   "cell_type": "markdown",
   "metadata": {},
   "source": [
    "## Imports"
   ]
  },
  {
   "cell_type": "code",
   "execution_count": 1,
   "metadata": {
    "colab": {},
    "colab_type": "code",
    "id": "AlT1Kh3uA9lZ"
   },
   "outputs": [
    {
     "name": "stdout",
     "output_type": "stream",
     "text": [
      "Version:  2.1.0\n"
     ]
    }
   ],
   "source": [
    "from __future__ import absolute_import, division, print_function, unicode_literals\n",
    "\n",
    "try:\n",
    "    # %tensorflow_version only exists in Colab.\n",
    "    %tensorflow_version 2.x\n",
    "except Exception:\n",
    "    pass\n",
    "\n",
    "import tensorflow as tf\n",
    "import tensorflow_datasets as tfds\n",
    "import matplotlib.pyplot as plt\n",
    "import io\n",
    "from PIL import Image\n",
    "\n",
    "from tensorflow.keras.callbacks import TensorBoard, EarlyStopping, LearningRateScheduler, ModelCheckpoint, CSVLogger, ReduceLROnPlateau\n",
    "%load_ext tensorboard\n",
    "\n",
    "import os\n",
    "import matplotlib.pylab as plt\n",
    "import numpy as np\n",
    "import math\n",
    "import datetime\n",
    "import pandas as pd\n",
    "\n",
    "print(\"Version: \", tf.__version__)\n",
    "tf.get_logger().setLevel('INFO')"
   ]
  },
  {
   "cell_type": "markdown",
   "metadata": {
    "colab_type": "text",
    "id": "HnSljqtsXKfb"
   },
   "source": [
    "# Examples of Keras callback applications\n",
    "The following section will guide you through creating simple [Callback](https://keras.io/api/callbacks/) applications."
   ]
  },
  {
   "cell_type": "code",
   "execution_count": 2,
   "metadata": {
    "colab": {},
    "colab_type": "code",
    "id": "spskRuxvCYQE"
   },
   "outputs": [],
   "source": [
    "# Download and prepare the horses or humans dataset\n",
    "\n",
    "# horses_or_humans 3.0.0 has already been downloaded for you\n",
    "path = \"./tensorflow_datasets\"\n",
    "splits, info = tfds.load('horses_or_humans', data_dir=path, as_supervised=True, with_info=True, split=['train[:80%]', 'train[80%:]', 'test'])\n",
    "\n",
    "(train_examples, validation_examples, test_examples) = splits\n",
    "\n",
    "num_examples = info.splits['train'].num_examples\n",
    "num_classes = info.features['label'].num_classes"
   ]
  },
  {
   "cell_type": "code",
   "execution_count": 3,
   "metadata": {
    "colab": {},
    "colab_type": "code",
    "id": "veIsubKTCZsN"
   },
   "outputs": [],
   "source": [
    "SIZE = 150 #@param {type:\"slider\", min:64, max:300, step:1}\n",
    "IMAGE_SIZE = (SIZE, SIZE)"
   ]
  },
  {
   "cell_type": "code",
   "execution_count": 4,
   "metadata": {
    "colab": {},
    "colab_type": "code",
    "id": "faajLlErCb1S"
   },
   "outputs": [],
   "source": [
    "def format_image(image, label):\n",
    "  image = tf.image.resize(image, IMAGE_SIZE) / 255.0\n",
    "  return  image, label"
   ]
  },
  {
   "cell_type": "code",
   "execution_count": 5,
   "metadata": {
    "colab": {},
    "colab_type": "code",
    "id": "AVXPuU12Cdka"
   },
   "outputs": [],
   "source": [
    "BATCH_SIZE = 32 #@param {type:\"integer\"}"
   ]
  },
  {
   "cell_type": "code",
   "execution_count": 6,
   "metadata": {
    "colab": {},
    "colab_type": "code",
    "id": "0lHDkFVaCe48"
   },
   "outputs": [],
   "source": [
    "train_batches = train_examples.shuffle(num_examples // 4).map(format_image).batch(BATCH_SIZE).prefetch(1)\n",
    "validation_batches = validation_examples.map(format_image).batch(BATCH_SIZE).prefetch(1)\n",
    "test_batches = test_examples.map(format_image).batch(1)"
   ]
  },
  {
   "cell_type": "code",
   "execution_count": 7,
   "metadata": {
    "colab": {},
    "colab_type": "code",
    "id": "DxsCqEIkCgUt"
   },
   "outputs": [
    {
     "data": {
      "text/plain": [
       "TensorShape([32, 150, 150, 3])"
      ]
     },
     "execution_count": 7,
     "metadata": {},
     "output_type": "execute_result"
    }
   ],
   "source": [
    "for image_batch, label_batch in train_batches.take(1):\n",
    "  pass\n",
    "\n",
    "image_batch.shape"
   ]
  },
  {
   "cell_type": "code",
   "execution_count": 8,
   "metadata": {
    "colab": {},
    "colab_type": "code",
    "id": "iDBpWvHXCh2A"
   },
   "outputs": [],
   "source": [
    "def build_model(dense_units, input_shape=IMAGE_SIZE + (3,)):\n",
    "  model = tf.keras.models.Sequential([\n",
    "      tf.keras.layers.Conv2D(16, (3, 3), activation='relu', input_shape=input_shape),\n",
    "      tf.keras.layers.MaxPooling2D(2, 2),\n",
    "      tf.keras.layers.Conv2D(32, (3, 3), activation='relu'),\n",
    "      tf.keras.layers.MaxPooling2D(2, 2),\n",
    "      tf.keras.layers.Conv2D(64, (3, 3), activation='relu'),\n",
    "      tf.keras.layers.MaxPooling2D(2, 2),\n",
    "      tf.keras.layers.Flatten(),\n",
    "      tf.keras.layers.Dense(dense_units, activation='relu'),\n",
    "      tf.keras.layers.Dense(2, activation='softmax')\n",
    "  ])\n",
    "  return model"
   ]
  },
  {
   "cell_type": "markdown",
   "metadata": {
    "colab_type": "text",
    "id": "0ZKGkjagENSw"
   },
   "source": [
    "## [TensorBoard](https://keras.io/api/callbacks/tensorboard/)\n",
    "\n",
    "Enable visualizations for TensorBoard."
   ]
  },
  {
   "cell_type": "code",
   "execution_count": 9,
   "metadata": {
    "colab": {},
    "colab_type": "code",
    "id": "CeiD2WVEHbex"
   },
   "outputs": [],
   "source": [
    "!rm -rf logs"
   ]
  },
  {
   "cell_type": "code",
   "execution_count": 10,
   "metadata": {
    "colab": {},
    "colab_type": "code",
    "id": "PpLwPLnAEOzv"
   },
   "outputs": [
    {
     "name": "stdout",
     "output_type": "stream",
     "text": [
      "Epoch 1/10\n",
      "26/26 [==============================] - 22s 829ms/step - loss: 0.6759 - accuracy: 0.5730 - val_loss: 0.7118 - val_accuracy: 0.4341\n",
      "Epoch 2/10\n",
      "26/26 [==============================] - 21s 803ms/step - loss: 0.6423 - accuracy: 0.6338 - val_loss: 0.6603 - val_accuracy: 0.4927\n",
      "Epoch 3/10\n",
      "26/26 [==============================] - 21s 800ms/step - loss: 0.5908 - accuracy: 0.7032 - val_loss: 0.5582 - val_accuracy: 0.8195\n",
      "Epoch 4/10\n",
      "26/26 [==============================] - 21s 800ms/step - loss: 0.5559 - accuracy: 0.7567 - val_loss: 0.7020 - val_accuracy: 0.5220\n",
      "Epoch 5/10\n",
      "26/26 [==============================] - 20s 785ms/step - loss: 0.4754 - accuracy: 0.7908 - val_loss: 0.4360 - val_accuracy: 0.8390\n",
      "Epoch 6/10\n",
      "26/26 [==============================] - 21s 789ms/step - loss: 0.4283 - accuracy: 0.8114 - val_loss: 0.4244 - val_accuracy: 0.8537\n",
      "Epoch 7/10\n",
      "26/26 [==============================] - 20s 784ms/step - loss: 0.3767 - accuracy: 0.8418 - val_loss: 0.3674 - val_accuracy: 0.8829\n",
      "Epoch 8/10\n",
      "26/26 [==============================] - 21s 789ms/step - loss: 0.3471 - accuracy: 0.8577 - val_loss: 0.4156 - val_accuracy: 0.8293\n",
      "Epoch 9/10\n",
      "26/26 [==============================] - 21s 793ms/step - loss: 0.2638 - accuracy: 0.9161 - val_loss: 0.2231 - val_accuracy: 0.9366\n",
      "Epoch 10/10\n",
      "26/26 [==============================] - 20s 784ms/step - loss: 0.2515 - accuracy: 0.9124 - val_loss: 0.2039 - val_accuracy: 0.9366\n"
     ]
    },
    {
     "data": {
      "text/plain": [
       "<tensorflow.python.keras.callbacks.History at 0x7c053ff41d90>"
      ]
     },
     "execution_count": 10,
     "metadata": {},
     "output_type": "execute_result"
    }
   ],
   "source": [
    "model = build_model(dense_units=256)\n",
    "model.compile(\n",
    "    optimizer='sgd',\n",
    "    loss='sparse_categorical_crossentropy', \n",
    "    metrics=['accuracy'])\n",
    "  \n",
    "logdir = os.path.join(\"logs\", datetime.datetime.now().strftime(\"%Y%m%d-%H%M%S\"))\n",
    "tensorboard_callback = tf.keras.callbacks.TensorBoard(logdir)\n",
    "\n",
    "model.fit(train_batches, \n",
    "          epochs=10, \n",
    "          validation_data=validation_batches, \n",
    "          callbacks=[tensorboard_callback])"
   ]
  },
  {
   "cell_type": "code",
   "execution_count": 11,
   "metadata": {
    "colab": {},
    "colab_type": "code",
    "id": "iJunWOjZE0ir"
   },
   "outputs": [
    {
     "data": {
      "text/html": [
       "\n",
       "      <iframe id=\"tensorboard-frame-cb48b7ec2e660c6d\" width=\"100%\" height=\"800\" frameborder=\"0\">\n",
       "      </iframe>\n",
       "      <script>\n",
       "        (function() {\n",
       "          const frame = document.getElementById(\"tensorboard-frame-cb48b7ec2e660c6d\");\n",
       "          const url = new URL(\"/\", window.location);\n",
       "          url.port = 6006;\n",
       "          frame.src = url;\n",
       "        })();\n",
       "      </script>\n",
       "  "
      ],
      "text/plain": [
       "<IPython.core.display.HTML object>"
      ]
     },
     "metadata": {},
     "output_type": "display_data"
    }
   ],
   "source": [
    "%tensorboard --logdir logs"
   ]
  },
  {
   "cell_type": "markdown",
   "metadata": {
    "colab_type": "text",
    "id": "wv9H4Pc2Mfl7"
   },
   "source": [
    "## [Model Checkpoint](https://keras.io/api/callbacks/model_checkpoint/)\n",
    "\n",
    "Callback to save the Keras model or model weights at some frequency."
   ]
  },
  {
   "cell_type": "code",
   "execution_count": 12,
   "metadata": {
    "colab": {},
    "colab_type": "code",
    "id": "PYV4FJ8iMmDq"
   },
   "outputs": [
    {
     "name": "stdout",
     "output_type": "stream",
     "text": [
      "Epoch 1/5\n",
      "\n",
      "Epoch 00001: saving model to weights.01-0.58.h5\n",
      "26/26 - 21s - loss: 0.6404 - accuracy: 0.6302 - val_loss: 0.5815 - val_accuracy: 0.7366\n",
      "Epoch 2/5\n",
      "\n",
      "Epoch 00002: saving model to weights.02-0.51.h5\n",
      "26/26 - 20s - loss: 0.5684 - accuracy: 0.7275 - val_loss: 0.5096 - val_accuracy: 0.7707\n",
      "Epoch 3/5\n",
      "\n",
      "Epoch 00003: saving model to weights.03-0.45.h5\n",
      "26/26 - 20s - loss: 0.4978 - accuracy: 0.7555 - val_loss: 0.4543 - val_accuracy: 0.7854\n",
      "Epoch 4/5\n",
      "\n",
      "Epoch 00004: saving model to weights.04-0.38.h5\n",
      "26/26 - 20s - loss: 0.4287 - accuracy: 0.7932 - val_loss: 0.3764 - val_accuracy: 0.8390\n",
      "Epoch 5/5\n",
      "\n",
      "Epoch 00005: saving model to weights.05-0.35.h5\n",
      "26/26 - 20s - loss: 0.3783 - accuracy: 0.8406 - val_loss: 0.3544 - val_accuracy: 0.8829\n"
     ]
    },
    {
     "data": {
      "text/plain": [
       "<tensorflow.python.keras.callbacks.History at 0x7c053fe0f590>"
      ]
     },
     "execution_count": 12,
     "metadata": {},
     "output_type": "execute_result"
    }
   ],
   "source": [
    "model = build_model(dense_units=256)\n",
    "model.compile(\n",
    "    optimizer='sgd',\n",
    "    loss='sparse_categorical_crossentropy', \n",
    "    metrics=['accuracy'])\n",
    "  \n",
    "model.fit(train_batches, \n",
    "          epochs=5, \n",
    "          validation_data=validation_batches, \n",
    "          verbose=2,\n",
    "          callbacks=[ModelCheckpoint('weights.{epoch:02d}-{val_loss:.2f}.h5', verbose=1),\n",
    "          ])"
   ]
  },
  {
   "cell_type": "code",
   "execution_count": 13,
   "metadata": {
    "colab": {},
    "colab_type": "code",
    "id": "oGvjQ8IlMmK6"
   },
   "outputs": [
    {
     "name": "stdout",
     "output_type": "stream",
     "text": [
      "\n",
      "Epoch 00001: saving model to saved_model\n",
      "WARNING:tensorflow:From /opt/conda/lib/python3.7/site-packages/tensorflow_core/python/ops/resource_variable_ops.py:1786: calling BaseResourceVariable.__init__ (from tensorflow.python.ops.resource_variable_ops) with constraint is deprecated and will be removed in a future version.\n",
      "Instructions for updating:\n",
      "If using Keras pass *_constraint arguments to layers.\n"
     ]
    },
    {
     "name": "stderr",
     "output_type": "stream",
     "text": [
      "WARNING:tensorflow:From /opt/conda/lib/python3.7/site-packages/tensorflow_core/python/ops/resource_variable_ops.py:1786: calling BaseResourceVariable.__init__ (from tensorflow.python.ops.resource_variable_ops) with constraint is deprecated and will be removed in a future version.\n",
      "Instructions for updating:\n",
      "If using Keras pass *_constraint arguments to layers.\n"
     ]
    },
    {
     "name": "stdout",
     "output_type": "stream",
     "text": [
      "INFO:tensorflow:Assets written to: saved_model/assets\n"
     ]
    },
    {
     "name": "stderr",
     "output_type": "stream",
     "text": [
      "INFO:tensorflow:Assets written to: saved_model/assets\n"
     ]
    },
    {
     "name": "stdout",
     "output_type": "stream",
     "text": [
      "26/26 - 21s - loss: 0.6834 - accuracy: 0.5365 - val_loss: 0.6816 - val_accuracy: 0.5415\n"
     ]
    },
    {
     "data": {
      "text/plain": [
       "<tensorflow.python.keras.callbacks.History at 0x7c053fc83a90>"
      ]
     },
     "execution_count": 13,
     "metadata": {},
     "output_type": "execute_result"
    }
   ],
   "source": [
    "model = build_model(dense_units=256)\n",
    "model.compile(\n",
    "    optimizer='sgd',\n",
    "    loss='sparse_categorical_crossentropy', \n",
    "    metrics=['accuracy'])\n",
    "  \n",
    "model.fit(train_batches, \n",
    "          epochs=1, \n",
    "          validation_data=validation_batches, \n",
    "          verbose=2,\n",
    "          callbacks=[ModelCheckpoint('saved_model', verbose=1)\n",
    "          ])"
   ]
  },
  {
   "cell_type": "code",
   "execution_count": 14,
   "metadata": {
    "colab": {},
    "colab_type": "code",
    "id": "Y1ConwoB0EjD"
   },
   "outputs": [
    {
     "name": "stdout",
     "output_type": "stream",
     "text": [
      "Epoch 1/2\n",
      "\n",
      "Epoch 00001: saving model to model.h5\n",
      "26/26 - 21s - loss: 0.6706 - accuracy: 0.6046 - val_loss: 0.6883 - val_accuracy: 0.4683\n",
      "Epoch 2/2\n",
      "\n",
      "Epoch 00002: saving model to model.h5\n",
      "26/26 - 20s - loss: 0.6334 - accuracy: 0.6460 - val_loss: 0.6110 - val_accuracy: 0.7220\n"
     ]
    },
    {
     "data": {
      "text/plain": [
       "<tensorflow.python.keras.callbacks.History at 0x7c053fa56ed0>"
      ]
     },
     "execution_count": 14,
     "metadata": {},
     "output_type": "execute_result"
    }
   ],
   "source": [
    "model = build_model(dense_units=256)\n",
    "model.compile(\n",
    "    optimizer='sgd',\n",
    "    loss='sparse_categorical_crossentropy', \n",
    "    metrics=['accuracy'])\n",
    "  \n",
    "model.fit(train_batches, \n",
    "          epochs=2, \n",
    "          validation_data=validation_batches, \n",
    "          verbose=2,\n",
    "          callbacks=[ModelCheckpoint('model.h5', verbose=1)\n",
    "          ])"
   ]
  },
  {
   "cell_type": "markdown",
   "metadata": {
    "colab_type": "text",
    "id": "kptNF0--Lznv"
   },
   "source": [
    "## [Early stopping](https://keras.io/api/callbacks/early_stopping/)\n",
    "\n",
    "Stop training when a monitored metric has stopped improving."
   ]
  },
  {
   "cell_type": "code",
   "execution_count": 15,
   "metadata": {
    "colab": {},
    "colab_type": "code",
    "id": "KJOJTJYdCkdY"
   },
   "outputs": [
    {
     "name": "stdout",
     "output_type": "stream",
     "text": [
      "Epoch 1/50\n",
      "26/26 - 22s - loss: 0.6723 - accuracy: 0.5681 - val_loss: 0.6862 - val_accuracy: 0.4488\n",
      "Epoch 2/50\n",
      "26/26 - 20s - loss: 0.6072 - accuracy: 0.6922 - val_loss: 0.5864 - val_accuracy: 0.7073\n",
      "Epoch 3/50\n",
      "26/26 - 20s - loss: 0.5697 - accuracy: 0.7433 - val_loss: 0.5120 - val_accuracy: 0.8537\n",
      "Epoch 4/50\n",
      "26/26 - 20s - loss: 0.4837 - accuracy: 0.8041 - val_loss: 0.4427 - val_accuracy: 0.8488\n",
      "Epoch 5/50\n",
      "26/26 - 20s - loss: 0.4181 - accuracy: 0.8455 - val_loss: 0.4153 - val_accuracy: 0.8390\n",
      "Epoch 6/50\n",
      "26/26 - 21s - loss: 0.3742 - accuracy: 0.8516 - val_loss: 0.2910 - val_accuracy: 0.9317\n",
      "Epoch 7/50\n",
      "26/26 - 20s - loss: 0.3030 - accuracy: 0.9027 - val_loss: 0.2407 - val_accuracy: 0.9610\n",
      "Epoch 8/50\n",
      "26/26 - 20s - loss: 0.2241 - accuracy: 0.9440 - val_loss: 0.1899 - val_accuracy: 0.9561\n",
      "Epoch 9/50\n",
      "26/26 - 21s - loss: 0.1909 - accuracy: 0.9428 - val_loss: 0.1625 - val_accuracy: 0.9463\n",
      "Epoch 10/50\n",
      "26/26 - 20s - loss: 0.1354 - accuracy: 0.9757 - val_loss: 0.1355 - val_accuracy: 0.9659\n",
      "Epoch 11/50\n",
      "26/26 - 20s - loss: 0.1185 - accuracy: 0.9732 - val_loss: 0.0887 - val_accuracy: 0.9854\n",
      "Epoch 12/50\n",
      "26/26 - 20s - loss: 0.1047 - accuracy: 0.9745 - val_loss: 0.0757 - val_accuracy: 0.9854\n",
      "Epoch 13/50\n",
      "26/26 - 20s - loss: 0.0864 - accuracy: 0.9805 - val_loss: 0.0668 - val_accuracy: 0.9902\n",
      "Epoch 14/50\n",
      "26/26 - 20s - loss: 0.0650 - accuracy: 0.9854 - val_loss: 0.0639 - val_accuracy: 0.9854\n",
      "Epoch 15/50\n",
      "Restoring model weights from the end of the best epoch.\n",
      "26/26 - 21s - loss: 0.0644 - accuracy: 0.9878 - val_loss: 0.0726 - val_accuracy: 0.9805\n",
      "Epoch 00015: early stopping\n"
     ]
    },
    {
     "data": {
      "text/plain": [
       "<tensorflow.python.keras.callbacks.History at 0x7c053f926b10>"
      ]
     },
     "execution_count": 15,
     "metadata": {},
     "output_type": "execute_result"
    }
   ],
   "source": [
    "model = build_model(dense_units=256)\n",
    "model.compile(\n",
    "    optimizer='sgd',\n",
    "    loss='sparse_categorical_crossentropy', \n",
    "    metrics=['accuracy'])\n",
    "  \n",
    "model.fit(train_batches, \n",
    "          epochs=50, \n",
    "          validation_data=validation_batches, \n",
    "          verbose=2,\n",
    "          callbacks=[EarlyStopping(\n",
    "              patience=3,\n",
    "              min_delta=0.05,\n",
    "              baseline=0.8,\n",
    "              mode='min',\n",
    "              monitor='val_loss',\n",
    "              restore_best_weights=True,\n",
    "              verbose=1)\n",
    "          ])"
   ]
  },
  {
   "cell_type": "markdown",
   "metadata": {
    "colab_type": "text",
    "id": "8mDzWUD4Pqq5"
   },
   "source": [
    "## [CSV Logger](https://keras.io/api/callbacks/csv_logger/)\n",
    "\n",
    "Callback that streams epoch results to a CSV file."
   ]
  },
  {
   "cell_type": "code",
   "execution_count": 16,
   "metadata": {
    "colab": {},
    "colab_type": "code",
    "id": "cffnMpmGPtMh"
   },
   "outputs": [
    {
     "name": "stdout",
     "output_type": "stream",
     "text": [
      "Epoch 1/5\n",
      "26/26 [==============================] - 22s 847ms/step - loss: 0.6652 - accuracy: 0.6302 - val_loss: 0.7025 - val_accuracy: 0.4341\n",
      "Epoch 2/5\n",
      "26/26 [==============================] - 20s 775ms/step - loss: 0.6046 - accuracy: 0.7178 - val_loss: 0.6032 - val_accuracy: 0.6488\n",
      "Epoch 3/5\n",
      "26/26 [==============================] - 20s 777ms/step - loss: 0.5477 - accuracy: 0.7555 - val_loss: 0.4833 - val_accuracy: 0.8537\n",
      "Epoch 4/5\n",
      "26/26 [==============================] - 21s 796ms/step - loss: 0.4545 - accuracy: 0.8248 - val_loss: 0.4146 - val_accuracy: 0.8683\n",
      "Epoch 5/5\n",
      "26/26 [==============================] - 20s 785ms/step - loss: 0.4064 - accuracy: 0.8504 - val_loss: 0.3397 - val_accuracy: 0.9024\n"
     ]
    },
    {
     "data": {
      "text/plain": [
       "<tensorflow.python.keras.callbacks.History at 0x7c053f83ead0>"
      ]
     },
     "execution_count": 16,
     "metadata": {},
     "output_type": "execute_result"
    }
   ],
   "source": [
    "model = build_model(dense_units=256)\n",
    "model.compile(\n",
    "    optimizer='sgd',\n",
    "    loss='sparse_categorical_crossentropy', \n",
    "    metrics=['accuracy'])\n",
    "  \n",
    "csv_file = 'training.csv'\n",
    "\n",
    "model.fit(train_batches, \n",
    "          epochs=5, \n",
    "          validation_data=validation_batches, \n",
    "          callbacks=[CSVLogger(csv_file)\n",
    "          ])"
   ]
  },
  {
   "cell_type": "code",
   "execution_count": 17,
   "metadata": {
    "colab": {},
    "colab_type": "code",
    "id": "B9tkYi03QV7R"
   },
   "outputs": [
    {
     "data": {
      "text/html": [
       "<div>\n",
       "<style scoped>\n",
       "    .dataframe tbody tr th:only-of-type {\n",
       "        vertical-align: middle;\n",
       "    }\n",
       "\n",
       "    .dataframe tbody tr th {\n",
       "        vertical-align: top;\n",
       "    }\n",
       "\n",
       "    .dataframe thead th {\n",
       "        text-align: right;\n",
       "    }\n",
       "</style>\n",
       "<table border=\"1\" class=\"dataframe\">\n",
       "  <thead>\n",
       "    <tr style=\"text-align: right;\">\n",
       "      <th></th>\n",
       "      <th>epoch</th>\n",
       "      <th>accuracy</th>\n",
       "      <th>loss</th>\n",
       "      <th>val_accuracy</th>\n",
       "      <th>val_loss</th>\n",
       "    </tr>\n",
       "  </thead>\n",
       "  <tbody>\n",
       "    <tr>\n",
       "      <th>0</th>\n",
       "      <td>0</td>\n",
       "      <td>0.630170</td>\n",
       "      <td>0.666309</td>\n",
       "      <td>0.434146</td>\n",
       "      <td>0.702538</td>\n",
       "    </tr>\n",
       "    <tr>\n",
       "      <th>1</th>\n",
       "      <td>1</td>\n",
       "      <td>0.717762</td>\n",
       "      <td>0.605889</td>\n",
       "      <td>0.648780</td>\n",
       "      <td>0.603227</td>\n",
       "    </tr>\n",
       "    <tr>\n",
       "      <th>2</th>\n",
       "      <td>2</td>\n",
       "      <td>0.755474</td>\n",
       "      <td>0.549139</td>\n",
       "      <td>0.853659</td>\n",
       "      <td>0.483300</td>\n",
       "    </tr>\n",
       "    <tr>\n",
       "      <th>3</th>\n",
       "      <td>3</td>\n",
       "      <td>0.824818</td>\n",
       "      <td>0.455282</td>\n",
       "      <td>0.868293</td>\n",
       "      <td>0.414631</td>\n",
       "    </tr>\n",
       "    <tr>\n",
       "      <th>4</th>\n",
       "      <td>4</td>\n",
       "      <td>0.850365</td>\n",
       "      <td>0.407466</td>\n",
       "      <td>0.902439</td>\n",
       "      <td>0.339667</td>\n",
       "    </tr>\n",
       "  </tbody>\n",
       "</table>\n",
       "</div>"
      ],
      "text/plain": [
       "   epoch  accuracy      loss  val_accuracy  val_loss\n",
       "0      0  0.630170  0.666309      0.434146  0.702538\n",
       "1      1  0.717762  0.605889      0.648780  0.603227\n",
       "2      2  0.755474  0.549139      0.853659  0.483300\n",
       "3      3  0.824818  0.455282      0.868293  0.414631\n",
       "4      4  0.850365  0.407466      0.902439  0.339667"
      ]
     },
     "execution_count": 17,
     "metadata": {},
     "output_type": "execute_result"
    }
   ],
   "source": [
    "pd.read_csv(csv_file).head()"
   ]
  },
  {
   "cell_type": "markdown",
   "metadata": {
    "colab_type": "text",
    "id": "Dt9C2Y9fRBKN"
   },
   "source": [
    "## [Learning Rate Scheduler](https://keras.io/api/callbacks/learning_rate_scheduler/)\n",
    "\n",
    "Updates the learning rate during training."
   ]
  },
  {
   "cell_type": "code",
   "execution_count": 18,
   "metadata": {
    "colab": {},
    "colab_type": "code",
    "id": "aJi-xY2VRC03"
   },
   "outputs": [
    {
     "name": "stdout",
     "output_type": "stream",
     "text": [
      "\n",
      "Epoch 00001: LearningRateScheduler reducing learning rate to 0.005.\n",
      "Epoch 1/5\n",
      "26/26 [==============================] - 29s 1s/step - loss: 0.6781 - accuracy: 0.5462 - val_loss: 0.6776 - val_accuracy: 0.4927\n",
      "\n",
      "Epoch 00002: LearningRateScheduler reducing learning rate to 0.0025.\n",
      "Epoch 2/5\n",
      "26/26 [==============================] - 21s 795ms/step - loss: 0.6619 - accuracy: 0.5669 - val_loss: 0.6616 - val_accuracy: 0.7171\n",
      "\n",
      "Epoch 00003: LearningRateScheduler reducing learning rate to 0.00125.\n",
      "Epoch 3/5\n",
      "26/26 [==============================] - 20s 777ms/step - loss: 0.6522 - accuracy: 0.6971 - val_loss: 0.6677 - val_accuracy: 0.5024\n",
      "\n",
      "Epoch 00004: LearningRateScheduler reducing learning rate to 0.000625.\n",
      "Epoch 4/5\n",
      "26/26 [==============================] - 21s 789ms/step - loss: 0.6479 - accuracy: 0.6010 - val_loss: 0.6615 - val_accuracy: 0.5463\n",
      "\n",
      "Epoch 00005: LearningRateScheduler reducing learning rate to 0.0003125.\n",
      "Epoch 5/5\n",
      "26/26 [==============================] - 20s 784ms/step - loss: 0.6457 - accuracy: 0.6302 - val_loss: 0.6592 - val_accuracy: 0.5756\n"
     ]
    },
    {
     "data": {
      "text/plain": [
       "<tensorflow.python.keras.callbacks.History at 0x7c053cfebf50>"
      ]
     },
     "execution_count": 18,
     "metadata": {},
     "output_type": "execute_result"
    }
   ],
   "source": [
    "model = build_model(dense_units=256)\n",
    "model.compile(\n",
    "    optimizer='sgd',\n",
    "    loss='sparse_categorical_crossentropy', \n",
    "    metrics=['accuracy'])\n",
    "  \n",
    "def step_decay(epoch):\n",
    "\tinitial_lr = 0.01\n",
    "\tdrop = 0.5\n",
    "\tepochs_drop = 1\n",
    "\tlr = initial_lr * math.pow(drop, math.floor((1+epoch)/epochs_drop))\n",
    "\treturn lr\n",
    "\n",
    "model.fit(train_batches, \n",
    "          epochs=5, \n",
    "          validation_data=validation_batches, \n",
    "          callbacks=[LearningRateScheduler(step_decay, verbose=1),\n",
    "                    TensorBoard(log_dir='./log_dir')])"
   ]
  },
  {
   "cell_type": "code",
   "execution_count": 19,
   "metadata": {
    "colab": {},
    "colab_type": "code",
    "id": "M2S4n8nrbV91"
   },
   "outputs": [
    {
     "data": {
      "text/html": [
       "\n",
       "      <iframe id=\"tensorboard-frame-7a87621ccc399205\" width=\"100%\" height=\"800\" frameborder=\"0\">\n",
       "      </iframe>\n",
       "      <script>\n",
       "        (function() {\n",
       "          const frame = document.getElementById(\"tensorboard-frame-7a87621ccc399205\");\n",
       "          const url = new URL(\"/\", window.location);\n",
       "          url.port = 6007;\n",
       "          frame.src = url;\n",
       "        })();\n",
       "      </script>\n",
       "  "
      ],
      "text/plain": [
       "<IPython.core.display.HTML object>"
      ]
     },
     "metadata": {},
     "output_type": "display_data"
    }
   ],
   "source": [
    "%tensorboard --logdir log_dir"
   ]
  },
  {
   "cell_type": "markdown",
   "metadata": {
    "colab_type": "text",
    "id": "y0wcuQyJE_UK"
   },
   "source": [
    "## [ReduceLROnPlateau](https://keras.io/api/callbacks/reduce_lr_on_plateau/)\n",
    "\n",
    "Reduce learning rate when a metric has stopped improving."
   ]
  },
  {
   "cell_type": "code",
   "execution_count": 20,
   "metadata": {
    "colab": {},
    "colab_type": "code",
    "id": "4naxZ-eCFB27"
   },
   "outputs": [
    {
     "name": "stdout",
     "output_type": "stream",
     "text": [
      "Epoch 1/50\n",
      "26/26 [==============================] - 22s 827ms/step - loss: 0.6819 - accuracy: 0.5572 - val_loss: 0.6838 - val_accuracy: 0.4439\n",
      "Epoch 2/50\n",
      "26/26 [==============================] - 20s 780ms/step - loss: 0.6584 - accuracy: 0.6229 - val_loss: 0.6633 - val_accuracy: 0.5024\n",
      "Epoch 3/50\n",
      "26/26 [==============================] - 20s 788ms/step - loss: 0.6303 - accuracy: 0.7153 - val_loss: 0.6162 - val_accuracy: 0.7854\n",
      "Epoch 4/50\n",
      "26/26 [==============================] - 21s 795ms/step - loss: 0.5854 - accuracy: 0.7895 - val_loss: 0.5520 - val_accuracy: 0.8439\n",
      "Epoch 5/50\n",
      "26/26 [==============================] - 20s 770ms/step - loss: 0.5278 - accuracy: 0.8151 - val_loss: 0.5089 - val_accuracy: 0.7951\n",
      "Epoch 6/50\n",
      "26/26 [==============================] - 20s 773ms/step - loss: 0.4575 - accuracy: 0.8200 - val_loss: 0.4605 - val_accuracy: 0.8000\n",
      "Epoch 7/50\n",
      "26/26 [==============================] - 21s 792ms/step - loss: 0.3881 - accuracy: 0.8686 - val_loss: 0.3288 - val_accuracy: 0.9415\n",
      "Epoch 8/50\n",
      "26/26 [==============================] - 20s 788ms/step - loss: 0.3115 - accuracy: 0.9027 - val_loss: 0.3210 - val_accuracy: 0.8927\n",
      "Epoch 9/50\n",
      "26/26 [==============================] - 20s 765ms/step - loss: 0.3000 - accuracy: 0.8942 - val_loss: 0.3114 - val_accuracy: 0.9024\n",
      "Epoch 10/50\n",
      "26/26 [==============================] - 20s 773ms/step - loss: 0.2302 - accuracy: 0.9234 - val_loss: 0.1708 - val_accuracy: 0.9610\n",
      "Epoch 11/50\n",
      "25/26 [===========================>..] - ETA: 0s - loss: 0.1803 - accuracy: 0.9463\n",
      "Epoch 00011: ReduceLROnPlateau reducing learning rate to 0.0019999999552965165.\n",
      "26/26 [==============================] - 20s 780ms/step - loss: 0.1802 - accuracy: 0.9465 - val_loss: 0.1912 - val_accuracy: 0.9171\n",
      "Epoch 12/50\n",
      "26/26 [==============================] - 20s 770ms/step - loss: 0.1511 - accuracy: 0.9550 - val_loss: 0.1398 - val_accuracy: 0.9707\n",
      "Epoch 13/50\n",
      "26/26 [==============================] - 21s 792ms/step - loss: 0.1427 - accuracy: 0.9672 - val_loss: 0.1310 - val_accuracy: 0.9707\n",
      "Epoch 14/50\n",
      "26/26 [==============================] - 20s 788ms/step - loss: 0.1386 - accuracy: 0.9574 - val_loss: 0.1283 - val_accuracy: 0.9707\n",
      "Epoch 15/50\n",
      "26/26 [==============================] - 21s 792ms/step - loss: 0.1345 - accuracy: 0.9611 - val_loss: 0.1226 - val_accuracy: 0.9805\n",
      "Epoch 16/50\n",
      "26/26 [==============================] - 20s 788ms/step - loss: 0.1297 - accuracy: 0.9586 - val_loss: 0.1196 - val_accuracy: 0.9805\n",
      "Epoch 17/50\n",
      "26/26 [==============================] - 20s 781ms/step - loss: 0.1271 - accuracy: 0.9599 - val_loss: 0.1173 - val_accuracy: 0.9756\n",
      "Epoch 18/50\n",
      "25/26 [===========================>..] - ETA: 0s - loss: 0.1237 - accuracy: 0.9613\n",
      "Epoch 00018: ReduceLROnPlateau reducing learning rate to 0.001.\n",
      "26/26 [==============================] - 21s 789ms/step - loss: 0.1219 - accuracy: 0.9623 - val_loss: 0.1202 - val_accuracy: 0.9659\n",
      "Epoch 19/50\n",
      "26/26 [==============================] - 20s 781ms/step - loss: 0.1205 - accuracy: 0.9672 - val_loss: 0.1121 - val_accuracy: 0.9756\n",
      "Epoch 20/50\n",
      "26/26 [==============================] - 20s 785ms/step - loss: 0.1173 - accuracy: 0.9696 - val_loss: 0.1094 - val_accuracy: 0.9805\n",
      "Epoch 21/50\n",
      "26/26 [==============================] - 20s 777ms/step - loss: 0.1154 - accuracy: 0.9708 - val_loss: 0.1074 - val_accuracy: 0.9805\n",
      "Epoch 22/50\n",
      "26/26 [==============================] - 20s 769ms/step - loss: 0.1146 - accuracy: 0.9684 - val_loss: 0.1073 - val_accuracy: 0.9756\n",
      "Epoch 23/50\n",
      "26/26 [==============================] - 20s 780ms/step - loss: 0.1132 - accuracy: 0.9708 - val_loss: 0.1055 - val_accuracy: 0.9805\n",
      "Epoch 24/50\n",
      "26/26 [==============================] - 21s 793ms/step - loss: 0.1110 - accuracy: 0.9732 - val_loss: 0.1044 - val_accuracy: 0.9756\n",
      "Epoch 25/50\n",
      "26/26 [==============================] - 21s 792ms/step - loss: 0.1089 - accuracy: 0.9745 - val_loss: 0.1036 - val_accuracy: 0.9756\n",
      "Epoch 26/50\n",
      "26/26 [==============================] - 20s 782ms/step - loss: 0.1077 - accuracy: 0.9745 - val_loss: 0.1011 - val_accuracy: 0.9805\n",
      "Epoch 27/50\n",
      "25/26 [===========================>..] - ETA: 0s - loss: 0.1081 - accuracy: 0.9712\n",
      "Epoch 00027: ReduceLROnPlateau reducing learning rate to 0.001.\n",
      "26/26 [==============================] - 20s 787ms/step - loss: 0.1061 - accuracy: 0.9720 - val_loss: 0.1026 - val_accuracy: 0.9756\n",
      "Epoch 28/50\n",
      "26/26 [==============================] - 20s 788ms/step - loss: 0.1043 - accuracy: 0.9769 - val_loss: 0.1006 - val_accuracy: 0.9756\n",
      "Epoch 29/50\n",
      "26/26 [==============================] - 20s 773ms/step - loss: 0.1033 - accuracy: 0.9745 - val_loss: 0.0993 - val_accuracy: 0.9756\n",
      "Epoch 30/50\n",
      "26/26 [==============================] - 20s 774ms/step - loss: 0.1026 - accuracy: 0.9781 - val_loss: 0.0969 - val_accuracy: 0.9756\n",
      "Epoch 31/50\n",
      "26/26 [==============================] - 21s 800ms/step - loss: 0.1017 - accuracy: 0.9781 - val_loss: 0.0957 - val_accuracy: 0.9756\n",
      "Epoch 32/50\n",
      "25/26 [===========================>..] - ETA: 0s - loss: 0.0987 - accuracy: 0.9762\n",
      "Epoch 00032: ReduceLROnPlateau reducing learning rate to 0.001.\n",
      "26/26 [==============================] - 20s 777ms/step - loss: 0.1004 - accuracy: 0.9745 - val_loss: 0.0966 - val_accuracy: 0.9756\n",
      "Epoch 33/50\n",
      "26/26 [==============================] - 20s 784ms/step - loss: 0.0981 - accuracy: 0.9769 - val_loss: 0.0938 - val_accuracy: 0.9756\n",
      "Epoch 34/50\n",
      "26/26 [==============================] - 20s 777ms/step - loss: 0.0973 - accuracy: 0.9781 - val_loss: 0.0925 - val_accuracy: 0.9805\n",
      "Epoch 35/50\n",
      "26/26 [==============================] - 20s 785ms/step - loss: 0.0955 - accuracy: 0.9769 - val_loss: 0.0916 - val_accuracy: 0.9805\n",
      "Epoch 36/50\n",
      "26/26 [==============================] - 20s 777ms/step - loss: 0.0943 - accuracy: 0.9769 - val_loss: 0.0907 - val_accuracy: 0.9805\n",
      "Epoch 37/50\n",
      "26/26 [==============================] - 20s 785ms/step - loss: 0.0928 - accuracy: 0.9793 - val_loss: 0.0900 - val_accuracy: 0.9756\n",
      "Epoch 38/50\n",
      "26/26 [==============================] - 20s 773ms/step - loss: 0.0921 - accuracy: 0.9781 - val_loss: 0.0888 - val_accuracy: 0.9805\n",
      "Epoch 39/50\n",
      "25/26 [===========================>..] - ETA: 0s - loss: 0.0925 - accuracy: 0.9787\n",
      "Epoch 00039: ReduceLROnPlateau reducing learning rate to 0.001.\n",
      "26/26 [==============================] - 20s 777ms/step - loss: 0.0901 - accuracy: 0.9793 - val_loss: 0.0893 - val_accuracy: 0.9756\n",
      "Epoch 40/50\n",
      "26/26 [==============================] - 20s 773ms/step - loss: 0.0905 - accuracy: 0.9805 - val_loss: 0.0879 - val_accuracy: 0.9756\n",
      "Epoch 41/50\n",
      "26/26 [==============================] - 21s 796ms/step - loss: 0.0898 - accuracy: 0.9793 - val_loss: 0.0868 - val_accuracy: 0.9805\n",
      "Epoch 42/50\n",
      "25/26 [===========================>..] - ETA: 0s - loss: 0.0868 - accuracy: 0.9800\n",
      "Epoch 00042: ReduceLROnPlateau reducing learning rate to 0.001.\n",
      "26/26 [==============================] - 20s 773ms/step - loss: 0.0890 - accuracy: 0.9793 - val_loss: 0.0870 - val_accuracy: 0.9756\n",
      "Epoch 43/50\n",
      "26/26 [==============================] - 20s 774ms/step - loss: 0.0867 - accuracy: 0.9805 - val_loss: 0.0858 - val_accuracy: 0.9805\n",
      "Epoch 44/50\n",
      "26/26 [==============================] - 20s 777ms/step - loss: 0.0851 - accuracy: 0.9793 - val_loss: 0.0844 - val_accuracy: 0.9805\n",
      "Epoch 45/50\n",
      "25/26 [===========================>..] - ETA: 0s - loss: 0.0834 - accuracy: 0.9800\n",
      "Epoch 00045: ReduceLROnPlateau reducing learning rate to 0.001.\n",
      "26/26 [==============================] - 20s 781ms/step - loss: 0.0848 - accuracy: 0.9793 - val_loss: 0.0852 - val_accuracy: 0.9756\n",
      "Epoch 46/50\n",
      "26/26 [==============================] - 20s 777ms/step - loss: 0.0830 - accuracy: 0.9818 - val_loss: 0.0825 - val_accuracy: 0.9805\n",
      "Epoch 47/50\n",
      "25/26 [===========================>..] - ETA: 0s - loss: 0.0831 - accuracy: 0.9787\n",
      "Epoch 00047: ReduceLROnPlateau reducing learning rate to 0.001.\n",
      "26/26 [==============================] - 21s 792ms/step - loss: 0.0827 - accuracy: 0.9793 - val_loss: 0.0830 - val_accuracy: 0.9756\n",
      "Epoch 48/50\n",
      "26/26 [==============================] - 21s 789ms/step - loss: 0.0821 - accuracy: 0.9818 - val_loss: 0.0822 - val_accuracy: 0.9756\n",
      "Epoch 49/50\n",
      "26/26 [==============================] - 21s 789ms/step - loss: 0.0818 - accuracy: 0.9818 - val_loss: 0.0801 - val_accuracy: 0.9805\n",
      "Epoch 50/50\n",
      "26/26 [==============================] - 20s 777ms/step - loss: 0.0795 - accuracy: 0.9793 - val_loss: 0.0795 - val_accuracy: 0.9805\n"
     ]
    },
    {
     "data": {
      "text/plain": [
       "<tensorflow.python.keras.callbacks.History at 0x7c053fd2f110>"
      ]
     },
     "execution_count": 20,
     "metadata": {},
     "output_type": "execute_result"
    }
   ],
   "source": [
    "model = build_model(dense_units=256)\n",
    "model.compile(\n",
    "    optimizer='sgd',\n",
    "    loss='sparse_categorical_crossentropy', \n",
    "    metrics=['accuracy'])\n",
    "  \n",
    "model.fit(train_batches, \n",
    "          epochs=50, \n",
    "          validation_data=validation_batches, \n",
    "          callbacks=[ReduceLROnPlateau(monitor='val_loss', \n",
    "                                       factor=0.2, verbose=1,\n",
    "                                       patience=1, min_lr=0.001),\n",
    "                     TensorBoard(log_dir='./log_dir')])"
   ]
  },
  {
   "cell_type": "code",
   "execution_count": 21,
   "metadata": {
    "colab": {},
    "colab_type": "code",
    "id": "isfTWP4NYudk"
   },
   "outputs": [
    {
     "data": {
      "text/plain": [
       "Reusing TensorBoard on port 6007 (pid 4598), started 0:16:59 ago. (Use '!kill 4598' to kill it.)"
      ]
     },
     "metadata": {},
     "output_type": "display_data"
    },
    {
     "data": {
      "text/html": [
       "\n",
       "      <iframe id=\"tensorboard-frame-719c56282a93e33b\" width=\"100%\" height=\"800\" frameborder=\"0\">\n",
       "      </iframe>\n",
       "      <script>\n",
       "        (function() {\n",
       "          const frame = document.getElementById(\"tensorboard-frame-719c56282a93e33b\");\n",
       "          const url = new URL(\"/\", window.location);\n",
       "          url.port = 6007;\n",
       "          frame.src = url;\n",
       "        })();\n",
       "      </script>\n",
       "  "
      ],
      "text/plain": [
       "<IPython.core.display.HTML object>"
      ]
     },
     "metadata": {},
     "output_type": "display_data"
    }
   ],
   "source": [
    "%tensorboard --logdir log_dir"
   ]
  }
 ],
 "metadata": {
  "colab": {
   "collapsed_sections": [],
   "include_colab_link": true,
   "name": "ExploringCallbacks.ipynb",
   "provenance": []
  },
  "kernelspec": {
   "display_name": "Python 3",
   "language": "python",
   "name": "python3"
  },
  "language_info": {
   "codemirror_mode": {
    "name": "ipython",
    "version": 3
   },
   "file_extension": ".py",
   "mimetype": "text/x-python",
   "name": "python",
   "nbconvert_exporter": "python",
   "pygments_lexer": "ipython3",
   "version": "3.7.6"
  }
 },
 "nbformat": 4,
 "nbformat_minor": 4
}
